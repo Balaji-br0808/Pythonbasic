{
 "cells": [
  {
   "cell_type": "code",
   "execution_count": 12,
   "id": "37bd4117-9809-4913-b79a-04c2f5cb7ad9",
   "metadata": {},
   "outputs": [
    {
     "name": "stdout",
     "output_type": "stream",
     "text": [
      "1\n"
     ]
    }
   ],
   "source": [
    "def list():\n",
    "    a=[1,2,3,\"a\",\"b\",12.3]\n",
    "    print(a[0])\n",
    "list()\n"
   ]
  },
  {
   "cell_type": "code",
   "execution_count": 9,
   "id": "8c9867bd-8cac-4023-a58a-d272cd587103",
   "metadata": {},
   "outputs": [
    {
     "name": "stdout",
     "output_type": "stream",
     "text": [
      "[1, 2, 3, 'a', 'b', 12.3]\n"
     ]
    }
   ],
   "source": [
    "list()"
   ]
  },
  {
   "cell_type": "code",
   "execution_count": null,
   "id": "a11e714f-61f4-4f3d-818d-9dfcf4b52420",
   "metadata": {},
   "outputs": [],
   "source": []
  }
 ],
 "metadata": {
  "kernelspec": {
   "display_name": "Python 3 (ipykernel)",
   "language": "python",
   "name": "python3"
  },
  "language_info": {
   "codemirror_mode": {
    "name": "ipython",
    "version": 3
   },
   "file_extension": ".py",
   "mimetype": "text/x-python",
   "name": "python",
   "nbconvert_exporter": "python",
   "pygments_lexer": "ipython3",
   "version": "3.13.5"
  }
 },
 "nbformat": 4,
 "nbformat_minor": 5
}
