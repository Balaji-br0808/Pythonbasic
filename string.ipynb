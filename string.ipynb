{
 "cells": [
  {
   "cell_type": "code",
   "execution_count": 18,
   "id": "04b71df2-169a-485f-8525-e8d2f2d08f23",
   "metadata": {},
   "outputs": [
    {
     "name": "stdin",
     "output_type": "stream",
     "text": [
      "enter a string: hello\n",
      " o\n"
     ]
    },
    {
     "name": "stdout",
     "output_type": "stream",
     "text": [
      "4\n"
     ]
    }
   ],
   "source": [
    "def position():\n",
    "    a=str(input(\"enter a string:\"))\n",
    "    b=str(input(\"\"))\n",
    "    c=a.find(b)\n",
    "    print(c)\n",
    "position()"
   ]
  },
  {
   "cell_type": "code",
   "execution_count": 16,
   "id": "93507e94-df26-4e06-b842-cd1d2d3dca6d",
   "metadata": {},
   "outputs": [
    {
     "name": "stdin",
     "output_type": "stream",
     "text": [
      "enter a string hello\n",
      "enter a char l\n"
     ]
    },
    {
     "name": "stdout",
     "output_type": "stream",
     "text": [
      "2\n"
     ]
    }
   ],
   "source": [
    "import re\n",
    "def countstring():\n",
    "    \n",
    "    s=str(input(\"enter a string\"))\n",
    "    t=str(input(\"enter a char\"))\n",
    "    u= re.findall(t,s)\n",
    "    print(len(u))\n",
    "countstring()\n"
   ]
  },
  {
   "cell_type": "code",
   "execution_count": 30,
   "id": "e9cb3140-3837-44ff-b94a-cb6c235cdb7a",
   "metadata": {},
   "outputs": [
    {
     "name": "stdin",
     "output_type": "stream",
     "text": [
      "enter a string naan\n"
     ]
    },
    {
     "name": "stdout",
     "output_type": "stream",
     "text": [
      "palindrome\n"
     ]
    }
   ],
   "source": [
    "s=str(input(\"enter a string\"))\n",
    "if(s==s[::-1]):\n",
    "    print(\"palindrome\")\n",
    "else:\n",
    "    print(\"not a palindrome\")"
   ]
  },
  {
   "cell_type": "code",
   "execution_count": 51,
   "id": "54f32ffb-6b79-4766-888a-4d4b76eb4cc0",
   "metadata": {},
   "outputs": [
    {
     "data": {
      "text/plain": [
       "'aai'"
      ]
     },
     "execution_count": 51,
     "metadata": {},
     "output_type": "execute_result"
    }
   ],
   "source": [
    "name=\"balaji\"\n",
    "name[1::2]"
   ]
  },
  {
   "cell_type": "code",
   "execution_count": 10,
   "id": "e4fd957d-d30c-4206-ab8b-4ab339f542c0",
   "metadata": {},
   "outputs": [
    {
     "name": "stdin",
     "output_type": "stream",
     "text": [
      "enter a string balaji\n"
     ]
    },
    {
     "name": "stdout",
     "output_type": "stream",
     "text": [
      "blj\n"
     ]
    }
   ],
   "source": [
    "s=(input(\"enter a string\"))\n",
    "vow=\"a\",\"e\",\"i\",\"o\",\"u\"\n",
    "res=\"\"\n",
    "for ch in s:\n",
    "    if(ch not in vow):\n",
    "        res=res+ch\n",
    "print(res)"
   ]
  },
  {
   "cell_type": "code",
   "execution_count": 11,
   "id": "60842c0b-b19a-4df8-b8a0-4040280ede4f",
   "metadata": {},
   "outputs": [
    {
     "name": "stdin",
     "output_type": "stream",
     "text": [
      "enter a string balaji\n"
     ]
    },
    {
     "name": "stdout",
     "output_type": "stream",
     "text": [
      "aai\n"
     ]
    }
   ],
   "source": [
    "s=(input(\"enter a string\"))\n",
    "cons=\"bcdfghjklmnpqrstvwxyz\"\n",
    "res=\"\"\n",
    "for ch in s:\n",
    "    if(ch not in cons):\n",
    "        res=res+ch\n",
    "print(res)"
   ]
  },
  {
   "cell_type": "code",
   "execution_count": 19,
   "id": "4c251960-b153-4317-95f5-47d28a5d633d",
   "metadata": {},
   "outputs": [
    {
     "name": "stdin",
     "output_type": "stream",
     "text": [
      "enter a string ba12ji\n"
     ]
    },
    {
     "name": "stdout",
     "output_type": "stream",
     "text": [
      "has numeric\n"
     ]
    }
   ],
   "source": [
    "s=(input(\"enter a string\"))\n",
    "found=False\n",
    "for i in range(0,10):\n",
    "    if(str(i) in s):\n",
    "        found=True\n",
    "        break\n",
    "if found:\n",
    "    print(\"has numeric\")\n",
    "else:\n",
    "    print(\"no numeric\")\n"
   ]
  },
  {
   "cell_type": "code",
   "execution_count": 24,
   "id": "5ba5d179-c896-4ed2-b053-522cd3106fae",
   "metadata": {},
   "outputs": [
    {
     "name": "stdin",
     "output_type": "stream",
     "text": [
      "enter a string BalaJI@20$\n"
     ]
    },
    {
     "name": "stdout",
     "output_type": "stream",
     "text": [
      "3\n",
      "3\n",
      "2\n",
      "2\n"
     ]
    }
   ],
   "source": [
    "s=(input(\"enter a string\"))\n",
    "uppercase=\"ABCDEFGHIJKLMNOPQRSTUVWXYZ\"\n",
    "lowercase=\"abcdefghijklmnopqrstuvwxyz\"\n",
    "num=\"0123456789\"\n",
    "spec=\"@#$%&\"\n",
    "count1=0\n",
    "count2=0\n",
    "count3=0 \n",
    "count4=0\n",
    "for ch in s:\n",
    "    if(ch in uppercase):\n",
    "        count1=count1+1\n",
    "    elif(ch in lowercase):\n",
    "        count2=count2+1\n",
    "    if(ch in num):\n",
    "        count3=count3+1\n",
    "    if(ch in spec):\n",
    "        count4=count4+1\n",
    "print(count1)\n",
    "print(count2)\n",
    "print(count3)\n",
    "print(count4)\n",
    "\n",
    "    "
   ]
  },
  {
   "cell_type": "code",
   "execution_count": 30,
   "id": "b0310951-199e-4dd0-96e5-ad73671cc93e",
   "metadata": {},
   "outputs": [
    {
     "name": "stdin",
     "output_type": "stream",
     "text": [
      "enter a string bal1234aj34i\n"
     ]
    },
    {
     "name": "stdout",
     "output_type": "stream",
     "text": [
      "balaji\n"
     ]
    }
   ],
   "source": [
    "s=(input(\"enter a string\"))\n",
    "num=\"0123456789\"\n",
    "res=\"\"\n",
    "for ch in s:\n",
    "    if(ch not in num):\n",
    "        res=res+ch\n",
    "print(res)\n",
    "        "
   ]
  },
  {
   "cell_type": "code",
   "execution_count": 35,
   "id": "43acb6be-f24f-4e5a-b8c4-d44aef6f2423",
   "metadata": {},
   "outputs": [
    {
     "name": "stdin",
     "output_type": "stream",
     "text": [
      "enter a string baal163ji\n"
     ]
    },
    {
     "name": "stdout",
     "output_type": "stream",
     "text": [
      "has numeric\n"
     ]
    }
   ],
   "source": [
    "s=(input(\"enter a string\"))\n",
    "found=False\n",
    "num=\"0123456789\"\n",
    "for ch in s:\n",
    "    if(ch in num):\n",
    "        found=True\n",
    "        break\n",
    "if found:\n",
    "    print(\"has numeric\")\n",
    "else:\n",
    "    print(\"no numeric\")\n"
   ]
  },
  {
   "cell_type": "code",
   "execution_count": 38,
   "id": "2a4235d2-7d0d-48ed-b508-aa032b2cade7",
   "metadata": {},
   "outputs": [
    {
     "name": "stdin",
     "output_type": "stream",
     "text": [
      "enter a string bal1234hkk567i\n"
     ]
    },
    {
     "name": "stdout",
     "output_type": "stream",
     "text": [
      "1234567\n"
     ]
    }
   ],
   "source": [
    "s=(input(\"enter a string\"))\n",
    "nonumeric=\"ABCDEFGHIJKLMNOPQRSTUVWXYZabcdefghijklmnopqrstuvwxyz@#$%&\"\n",
    "res=\"\"\n",
    "for ch in s:\n",
    "    if(ch  not in nonumeric):\n",
    "        res=res+ch\n",
    "print(res)\n"
   ]
  },
  {
   "cell_type": "code",
   "execution_count": 40,
   "id": "48d94a12-7acb-4ccb-94ed-81c6bd6317dc",
   "metadata": {},
   "outputs": [
    {
     "name": "stdin",
     "output_type": "stream",
     "text": [
      "enter a string balaji@2006#$\n"
     ]
    },
    {
     "name": "stdout",
     "output_type": "stream",
     "text": [
      "balaji2006\n"
     ]
    }
   ],
   "source": [
    "s=(input(\"enter a string\"))\n",
    "withoutspec=\"ABCDEFGHIJKLMNOPQRSTUVWXYZabcdefghijklmnopqrstuvwxyz0123456789\"\n",
    "res=\"\"\n",
    "for ch in s:\n",
    "    if(ch in withoutspec):\n",
    "        res=res+ch\n",
    "print(res)"
   ]
  },
  {
   "cell_type": "code",
   "execution_count": 42,
   "id": "2105aebc-53c4-43d0-846d-d54a96520784",
   "metadata": {},
   "outputs": [
    {
     "name": "stdin",
     "output_type": "stream",
     "text": [
      "enter a string balaji\n"
     ]
    },
    {
     "name": "stdout",
     "output_type": "stream",
     "text": [
      "b\n",
      "a\n",
      "l\n",
      "a\n",
      "j\n",
      "i\n"
     ]
    }
   ],
   "source": [
    "s=(input(\"enter a string\"))\n",
    "for ch in s:\n",
    "    print(ch)"
   ]
  },
  {
   "cell_type": "code",
   "execution_count": 45,
   "id": "4f083586-40ab-4ca3-9a62-14a023c4b16e",
   "metadata": {},
   "outputs": [
    {
     "name": "stdin",
     "output_type": "stream",
     "text": [
      "enter a string balaji\n",
      "enter a string anand\n"
     ]
    },
    {
     "ename": "TypeError",
     "evalue": "'str' object is not callable",
     "output_type": "error",
     "traceback": [
      "\u001b[1;31m---------------------------------------------------------------------------\u001b[0m",
      "\u001b[1;31mTypeError\u001b[0m                                 Traceback (most recent call last)",
      "Cell \u001b[1;32mIn[45], line 5\u001b[0m\n\u001b[0;32m      3\u001b[0m \u001b[38;5;28;01mfor\u001b[39;00m ch \u001b[38;5;129;01min\u001b[39;00m s:\n\u001b[0;32m      4\u001b[0m     \u001b[38;5;28;01mfor\u001b[39;00m ch \u001b[38;5;129;01min\u001b[39;00m t:\n\u001b[1;32m----> 5\u001b[0m         \u001b[38;5;28;01mif\u001b[39;00m(ch(s)\u001b[38;5;241m==\u001b[39mch(t)):\n\u001b[0;32m      6\u001b[0m             \u001b[38;5;28mprint\u001b[39m (ch)\n",
      "\u001b[1;31mTypeError\u001b[0m: 'str' object is not callable"
     ]
    }
   ],
   "source": [
    "s=(input(\"enter a string\"))\n",
    "t=(input(\"enter a string\"))\n",
    "for ch in s:\n",
    "    for ch in t:\n",
    "            "
   ]
  },
  {
   "cell_type": "code",
   "execution_count": null,
   "id": "e894586b-6c22-41bc-ac6f-edc67737edc1",
   "metadata": {},
   "outputs": [],
   "source": []
  }
 ],
 "metadata": {
  "kernelspec": {
   "display_name": "Python 3 (ipykernel)",
   "language": "python",
   "name": "python3"
  },
  "language_info": {
   "codemirror_mode": {
    "name": "ipython",
    "version": 3
   },
   "file_extension": ".py",
   "mimetype": "text/x-python",
   "name": "python",
   "nbconvert_exporter": "python",
   "pygments_lexer": "ipython3",
   "version": "3.13.5"
  }
 },
 "nbformat": 4,
 "nbformat_minor": 5
}
