{
 "cells": [
  {
   "cell_type": "code",
   "execution_count": 9,
   "id": "6b960f07-5dd7-4fa5-916a-08ae79fecbda",
   "metadata": {},
   "outputs": [
    {
     "name": "stdout",
     "output_type": "stream",
     "text": [
      "<class 'tuple'>\n"
     ]
    }
   ],
   "source": [
    "a=(1,2,\"a\",\"balaji\",1.23)\n",
    "print(type(a))"
   ]
  },
  {
   "cell_type": "code",
   "execution_count": 10,
   "id": "5c0149d3-6ead-4fca-9dad-34f726023400",
   "metadata": {},
   "outputs": [
    {
     "name": "stdout",
     "output_type": "stream",
     "text": [
      "<class 'str'>\n"
     ]
    },
    {
     "data": {
      "text/plain": [
       "1.23"
      ]
     },
     "execution_count": 10,
     "metadata": {},
     "output_type": "execute_result"
    }
   ],
   "source": [
    "print(type(a[3]))\n",
    "\n",
    "a[4]\n"
   ]
  },
  {
   "cell_type": "code",
   "execution_count": 7,
   "id": "07c7f2d1-858f-4868-b8f6-2728e7d2e897",
   "metadata": {},
   "outputs": [
    {
     "name": "stdout",
     "output_type": "stream",
     "text": [
      "4\n"
     ]
    }
   ],
   "source": [
    "b=1,2,3,4\n",
    "a,b,c,d=b\n",
    "print(d)"
   ]
  },
  {
   "cell_type": "code",
   "execution_count": 25,
   "id": "9f51a459-5eee-47ed-b43b-5782ad7a0e42",
   "metadata": {},
   "outputs": [
    {
     "ename": "TypeError",
     "evalue": "'float' object is not subscriptable",
     "output_type": "error",
     "traceback": [
      "\u001b[1;31m---------------------------------------------------------------------------\u001b[0m",
      "\u001b[1;31mTypeError\u001b[0m                                 Traceback (most recent call last)",
      "Cell \u001b[1;32mIn[25], line 2\u001b[0m\n\u001b[0;32m      1\u001b[0m a\u001b[38;5;241m=\u001b[39m(\u001b[38;5;241m1\u001b[39m,\u001b[38;5;241m2\u001b[39m,\u001b[38;5;124m\"\u001b[39m\u001b[38;5;124ma\u001b[39m\u001b[38;5;124m\"\u001b[39m,\u001b[38;5;124m\"\u001b[39m\u001b[38;5;124mbalaji\u001b[39m\u001b[38;5;124m\"\u001b[39m,\u001b[38;5;241m1.23\u001b[39m)\n\u001b[1;32m----> 2\u001b[0m \u001b[38;5;28mprint\u001b[39m(a[\u001b[38;5;241m4\u001b[39m][\u001b[38;5;241m3\u001b[39m])\n",
      "\u001b[1;31mTypeError\u001b[0m: 'float' object is not subscriptable"
     ]
    }
   ],
   "source": [
    "a=(1,2,\"a\",\"balaji\",1.23)\n",
    "print(a[4][3])"
   ]
  },
  {
   "cell_type": "code",
   "execution_count": 19,
   "id": "157e64d3-a981-446c-95dc-516992db10b7",
   "metadata": {},
   "outputs": [
    {
     "data": {
      "text/plain": [
       "1"
      ]
     },
     "execution_count": 19,
     "metadata": {},
     "output_type": "execute_result"
    }
   ],
   "source": [
    "a.count(b)"
   ]
  },
  {
   "cell_type": "code",
   "execution_count": 24,
   "id": "09e1a67a-f788-4bc3-81db-c3e440355b46",
   "metadata": {},
   "outputs": [
    {
     "ename": "NameError",
     "evalue": "name 'Falase' is not defined",
     "output_type": "error",
     "traceback": [
      "\u001b[1;31m---------------------------------------------------------------------------\u001b[0m",
      "\u001b[1;31mNameError\u001b[0m                                 Traceback (most recent call last)",
      "Cell \u001b[1;32mIn[24], line 1\u001b[0m\n\u001b[1;32m----> 1\u001b[0m n\u001b[38;5;241m=\u001b[39m(\u001b[38;5;241m1\u001b[39m,\u001b[38;5;241m2\u001b[39m,\u001b[38;5;241m8\u001b[39m,\u001b[38;5;241m6\u001b[39m,\u001b[38;5;241m68\u001b[39m,\u001b[38;5;241m56\u001b[39m,\u001b[38;5;241m17\u001b[39m,\u001b[38;5;241m99\u001b[39m,\u001b[38;5;241m178\u001b[39m,Falase)\n\u001b[0;32m      2\u001b[0m \u001b[38;5;28mprint\u001b[39m(\u001b[38;5;28mmax\u001b[39m(n))\n\u001b[0;32m      3\u001b[0m \u001b[38;5;28mprint\u001b[39m(\u001b[38;5;28mmin\u001b[39m(n))\n",
      "\u001b[1;31mNameError\u001b[0m: name 'Falase' is not defined"
     ]
    }
   ],
   "source": [
    "n=(1,2,8,6,68,56,17,99,178)\n",
    "print(max(n))\n",
    "print(min(n))\n",
    "print(len(n))"
   ]
  },
  {
   "cell_type": "code",
   "execution_count": 23,
   "id": "ea0390b7-ad94-4fae-a57a-23e2eefaf3d6",
   "metadata": {},
   "outputs": [
    {
     "name": "stdout",
     "output_type": "stream",
     "text": [
      "True\n",
      "True\n"
     ]
    }
   ],
   "source": [
    "print(any(n))\n",
    "print(all(n))"
   ]
  },
  {
   "cell_type": "code",
   "execution_count": 26,
   "id": "98c2b2e6-5cf4-4319-8e3a-779dbc615863",
   "metadata": {},
   "outputs": [
    {
     "name": "stdout",
     "output_type": "stream",
     "text": [
      "(0, 1)\n",
      "(1, 2)\n",
      "(2, 8)\n",
      "(3, 6)\n",
      "(4, 68)\n",
      "(5, 56)\n",
      "(6, 17)\n",
      "(7, 99)\n",
      "(8, 178)\n"
     ]
    }
   ],
   "source": [
    "for i in enumerate(n):\n",
    "    print(i)"
   ]
  },
  {
   "cell_type": "code",
   "execution_count": 27,
   "id": "3a79b523-d02f-4419-9bb1-d6f38753a95b",
   "metadata": {},
   "outputs": [
    {
     "name": "stdout",
     "output_type": "stream",
     "text": [
      "(0, 'balaji')\n",
      "(1, 'sadiq')\n",
      "(2, 'Thulasi')\n"
     ]
    }
   ],
   "source": [
    "a=(\"balaji\",\"sadiq\",\"Thulasi\")\n",
    "for i in enumerate(a):\n",
    "    print(i)\n"
   ]
  },
  {
   "cell_type": "code",
   "execution_count": 42,
   "id": "87909b1f-e137-4802-9c88-85029842e43e",
   "metadata": {},
   "outputs": [
    {
     "name": "stdout",
     "output_type": "stream",
     "text": [
      "(('balaji', 'agar'), ('sadiq', 'siva'), ('Thulasi', 'amjath'))\n"
     ]
    }
   ],
   "source": [
    "b=(\"agar\",\"siva\",\"amjath\")\n",
    "c=zip(a,b)\n",
    "print(tuple(c))\n"
   ]
  },
  {
   "cell_type": "code",
   "execution_count": 40,
   "id": "741a83d1-fb56-4796-acff-50f407ef1276",
   "metadata": {},
   "outputs": [
    {
     "name": "stdout",
     "output_type": "stream",
     "text": [
      "[5, 4, 3, 2, 1]\n"
     ]
    }
   ],
   "source": [
    "f=(1,2,3,4,5)\n",
    "d=reversed(f)\n",
    "print(list(d))"
   ]
  },
  {
   "cell_type": "code",
   "execution_count": 49,
   "id": "e4b976f8-7e2f-4d62-a81d-7f0f158177fc",
   "metadata": {},
   "outputs": [
    {
     "name": "stdout",
     "output_type": "stream",
     "text": [
      "(1, 2, 3, 4, 5, 1, 2, 8, 6, 68, 56, 17, 99, 178)\n"
     ]
    }
   ],
   "source": [
    "n=f+(1,2,8,6,68,56,17,99,178)\n",
    "print(n)"
   ]
  },
  {
   "cell_type": "code",
   "execution_count": 44,
   "id": "b9d9a39e-cf1e-41f7-a9a7-ef3dbed17e8f",
   "metadata": {},
   "outputs": [
    {
     "data": {
      "text/plain": [
       "(2, 3, 4, 5, 1, 2)"
      ]
     },
     "execution_count": 44,
     "metadata": {},
     "output_type": "execute_result"
    }
   ],
   "source": [
    "n[1:7]"
   ]
  },
  {
   "cell_type": "code",
   "execution_count": 47,
   "id": "438d58c2-dfba-4080-a7b3-099ea68ae671",
   "metadata": {},
   "outputs": [
    {
     "data": {
      "text/plain": [
       "(1, 2, 'a', 'balaji', 1.23, 'balaji', 'sadiq', 'Thulasi')"
      ]
     },
     "execution_count": 47,
     "metadata": {},
     "output_type": "execute_result"
    }
   ],
   "source": [
    "a=(1,2,\"a\",\"balaji\",1.23)\n",
    "b=a+(\"balaji\",\"sadiq\",\"Thulasi\")\n",
    "b"
   ]
  },
  {
   "cell_type": "code",
   "execution_count": 48,
   "id": "a72f0993-aa72-4c48-bb9c-7795231013f2",
   "metadata": {},
   "outputs": [
    {
     "data": {
      "text/plain": [
       "8"
      ]
     },
     "execution_count": 48,
     "metadata": {},
     "output_type": "execute_result"
    }
   ],
   "source": [
    "len(b)"
   ]
  },
  {
   "cell_type": "code",
   "execution_count": 50,
   "id": "d79bb863-2e2c-42fc-a17e-0ffce2ee7c23",
   "metadata": {},
   "outputs": [
    {
     "data": {
      "text/plain": [
       "[1, 1, 2, 2, 3, 4, 5, 6, 8, 17, 56, 68, 99, 178]"
      ]
     },
     "execution_count": 50,
     "metadata": {},
     "output_type": "execute_result"
    }
   ],
   "source": [
    "sorted(n)"
   ]
  },
  {
   "cell_type": "code",
   "execution_count": 51,
   "id": "146572d5-ce46-4592-8c09-1d23237ec9e1",
   "metadata": {},
   "outputs": [
    {
     "data": {
      "text/plain": [
       "450"
      ]
     },
     "execution_count": 51,
     "metadata": {},
     "output_type": "execute_result"
    }
   ],
   "source": [
    "sum(n)"
   ]
  },
  {
   "cell_type": "code",
   "execution_count": 57,
   "id": "aa3b52b7-120a-4a5b-8cc0-e418b76a30e4",
   "metadata": {},
   "outputs": [
    {
     "data": {
      "text/plain": [
       "'balaji & sadiq & Thulasi'"
      ]
     },
     "execution_count": 57,
     "metadata": {},
     "output_type": "execute_result"
    }
   ],
   "source": [
    "a=(\"balaji\",\"sadiq\",\"Thulasi\")\n",
    "h=\" & \".join(a)\n",
    "h"
   ]
  },
  {
   "cell_type": "code",
   "execution_count": 72,
   "id": "811cc25c-8b4d-4c60-80b5-429b059e0cd6",
   "metadata": {},
   "outputs": [
    {
     "name": "stdout",
     "output_type": "stream",
     "text": [
      "a: balaji b: 1\n",
      "a: sadiq b: 2\n",
      "a: Thulasi b: 3\n"
     ]
    }
   ],
   "source": [
    "a=(\"balaji\",\"sadiq\",\"Thulasi\")\n",
    "b=(1,2,3)\n",
    "zipped=zip(a,b)\n",
    "zipped\n",
    "for i,j in zipped:\n",
    "    print (\"a:\",i,\"b:\",j)"
   ]
  },
  {
   "cell_type": "code",
   "execution_count": 71,
   "id": "a2b1ed95-0d33-4ded-a38f-eb868beb3152",
   "metadata": {},
   "outputs": [
    {
     "name": "stdout",
     "output_type": "stream",
     "text": [
      "chr: a no: 5\n",
      "chr: b no: 6\n",
      "chr: c no: 7\n",
      "chr: d no: 8\n"
     ]
    }
   ],
   "source": [
    "a=(\"a\",\"b\",\"c\",\"d\")\n",
    "b=(5,6,7,8)\n",
    "for k,l in zip(a,b):\n",
    "    print(\"chr:\",k,\"no:\",l)"
   ]
  },
  {
   "cell_type": "code",
   "execution_count": 75,
   "id": "2531e0b8-ea8c-4a84-9a11-c915d5d6fdcf",
   "metadata": {},
   "outputs": [
    {
     "name": "stdout",
     "output_type": "stream",
     "text": [
      "q\n"
     ]
    }
   ],
   "source": [
    "a=(\"balaji\",\"sadiq\",\"Thulasi\",\"agar\",\"siva\",\"amjath\")\n",
    "print(a[1][4])"
   ]
  },
  {
   "cell_type": "code",
   "execution_count": null,
   "id": "be6272c6-630f-4a01-8219-a7be8fd5cb7f",
   "metadata": {},
   "outputs": [],
   "source": []
  }
 ],
 "metadata": {
  "kernelspec": {
   "display_name": "Python 3 (ipykernel)",
   "language": "python",
   "name": "python3"
  },
  "language_info": {
   "codemirror_mode": {
    "name": "ipython",
    "version": 3
   },
   "file_extension": ".py",
   "mimetype": "text/x-python",
   "name": "python",
   "nbconvert_exporter": "python",
   "pygments_lexer": "ipython3",
   "version": "3.13.5"
  }
 },
 "nbformat": 4,
 "nbformat_minor": 5
}
