{
 "cells": [
  {
   "cell_type": "code",
   "execution_count": 2,
   "id": "8e91b46f-0896-4dd9-948b-f6e16f596374",
   "metadata": {},
   "outputs": [
    {
     "name": "stdin",
     "output_type": "stream",
     "text": [
      "N 97\n"
     ]
    },
    {
     "name": "stdout",
     "output_type": "stream",
     "text": [
      "a\n"
     ]
    }
   ],
   "source": [
    "a=int(input(\"N\"))\n",
    "b=chr(a)\n",
    "print(b)"
   ]
  },
  {
   "cell_type": "code",
   "execution_count": 2,
   "id": "2eff5758-c3cc-4ce4-b46f-f61c8de40efb",
   "metadata": {},
   "outputs": [
    {
     "name": "stdout",
     "output_type": "stream",
     "text": [
      "a\n",
      "b\n",
      "c\n",
      "d\n",
      "e\n",
      "f\n",
      "g\n",
      "h\n",
      "i\n",
      "j\n",
      "k\n",
      "l\n",
      "m\n",
      "n\n",
      "o\n",
      "p\n",
      "q\n",
      "r\n",
      "s\n",
      "t\n",
      "u\n",
      "v\n",
      "w\n",
      "x\n",
      "y\n",
      "z\n"
     ]
    }
   ],
   "source": [
    "for i in range(97,123):\n",
    "    print(chr(i))"
   ]
  },
  {
   "cell_type": "code",
   "execution_count": 3,
   "id": "616ef89b-a365-4e6e-9857-bd3aa9d1742c",
   "metadata": {},
   "outputs": [
    {
     "name": "stdout",
     "output_type": "stream",
     "text": [
      "\n",
      "*\n",
      "**\n",
      "***\n",
      "****\n",
      "*****\n"
     ]
    }
   ],
   "source": [
    "n=5\n",
    "for i in range(0,n+1):\n",
    "    print(\"*\"*i)"
   ]
  },
  {
   "cell_type": "code",
   "execution_count": null,
   "id": "b9cab9b8-89e5-434f-b595-4ff76446ccb1",
   "metadata": {},
   "outputs": [],
   "source": []
  },
  {
   "cell_type": "code",
   "execution_count": 7,
   "id": "24359186-4aa8-4645-826c-edcd7aac06fb",
   "metadata": {},
   "outputs": [
    {
     "name": "stdout",
     "output_type": "stream",
     "text": [
      "\n",
      "*\n",
      "\n",
      "**\n",
      "\n",
      "***\n",
      "\n",
      "****\n",
      "\n",
      "*****\n",
      "\n",
      "******\n",
      "\n",
      "*******\n",
      "\n",
      "********\n",
      "\n",
      "*********\n",
      "\n",
      "**********\n"
     ]
    }
   ],
   "source": [
    "size=10\n",
    "for i in range(size):\n",
    "    count=size-i\n",
    "    print(\"\" * (count//2))\n",
    "    print(\"*\"*(i+1))\n",
    "   "
   ]
  },
  {
   "cell_type": "code",
   "execution_count": null,
   "id": "ae1fa85d-93eb-455e-b72b-8a1b43145dbf",
   "metadata": {},
   "outputs": [
    {
     "name": "stdin",
     "output_type": "stream",
     "text": [
      "no 1234\n"
     ]
    }
   ],
   "source": [
    "n=int(input(\"no\"))\n",
    "count=0\n",
    "if(n==0):\n",
    "    count=1\n",
    "else:\n",
    "    while(n!=0):\n",
    "        n//10\n",
    "        count=count+1\n",
    "print(count)"
   ]
  },
  {
   "cell_type": "code",
   "execution_count": 1,
   "id": "5208acd2-81aa-47c2-98f1-37b5da3f0284",
   "metadata": {},
   "outputs": [
    {
     "name": "stdin",
     "output_type": "stream",
     "text": [
      "no 1234\n"
     ]
    },
    {
     "name": "stdout",
     "output_type": "stream",
     "text": [
      "4321\n"
     ]
    }
   ],
   "source": [
    "n=int(input(\"no\"))\n",
    "a=str(abs(n))[::-1]\n",
    "print(a)\n"
   ]
  },
  {
   "cell_type": "code",
   "execution_count": 16,
   "id": "a69d2c26-96e2-4796-a33b-8fc35a6ef1e4",
   "metadata": {},
   "outputs": [
    {
     "name": "stdin",
     "output_type": "stream",
     "text": [
      " 1441\n"
     ]
    },
    {
     "name": "stdout",
     "output_type": "stream",
     "text": [
      "1441\n",
      "1441\n",
      "<class 'int'>\n",
      "<class 'int'>\n",
      "palindrome\n"
     ]
    }
   ],
   "source": [
    "n=int(input(\"\"))\n",
    "a=int(str(abs(n))[::-1])\n",
    "print(a)\n",
    "print(n)\n",
    "print(type(a))\n",
    "print(type(n))      \n",
    "if(n==a):\n",
    "    print(\"palindrome\")\n",
    "else:\n",
    "    print(\"not paindrome\")"
   ]
  },
  {
   "cell_type": "code",
   "execution_count": 9,
   "id": "f8b5a1c8-5e2e-4116-9d44-f0c9adc7f8ca",
   "metadata": {},
   "outputs": [
    {
     "name": "stdin",
     "output_type": "stream",
     "text": [
      "no 12\n",
      " 12\n"
     ]
    },
    {
     "name": "stdout",
     "output_type": "stream",
     "text": [
      "e\n"
     ]
    }
   ],
   "source": [
    "n=int(input(\"no\"))\n",
    "m=int(input(\"\"))\n",
    "if(n==m):\n",
    "    print(\"e\")"
   ]
  },
  {
   "cell_type": "code",
   "execution_count": 18,
   "id": "b05ff00d-a1b0-4de6-bc4f-2abccc31e84a",
   "metadata": {},
   "outputs": [
    {
     "name": "stdin",
     "output_type": "stream",
     "text": [
      "NO 12345678\n"
     ]
    },
    {
     "name": "stdout",
     "output_type": "stream",
     "text": [
      "8\n"
     ]
    }
   ],
   "source": [
    "n=int(input(\"NO\"))\n",
    "count=0\n",
    "while(n!=0):\n",
    "    n=n//10\n",
    "    count=count+1\n",
    "print(count)"
   ]
  },
  {
   "cell_type": "code",
   "execution_count": 21,
   "id": "dfc351e0-7ea9-4242-bf2f-ea134bfcdbcb",
   "metadata": {},
   "outputs": [
    {
     "name": "stdin",
     "output_type": "stream",
     "text": [
      "NO 123\n"
     ]
    },
    {
     "name": "stdout",
     "output_type": "stream",
     "text": [
      "odd\n"
     ]
    }
   ],
   "source": [
    "n=int(input(\"NO\"))\n",
    "count=0\n",
    "while(n!=0):\n",
    "    n=n//10\n",
    "    count=count+1\n",
    "if(count%2==0):\n",
    "    print(\"even\")\n",
    "else:\n",
    "    print(\"odd\")\n"
   ]
  },
  {
   "cell_type": "code",
   "execution_count": 24,
   "id": "335f025d-1e6e-4021-9205-5b33ff50d418",
   "metadata": {},
   "outputs": [
    {
     "name": "stdin",
     "output_type": "stream",
     "text": [
      "NO 123\n"
     ]
    },
    {
     "name": "stdout",
     "output_type": "stream",
     "text": [
      "6\n"
     ]
    }
   ],
   "source": [
    "n=int(input(\"NO\"))\n",
    "sum=0\n",
    "while(n!=0):\n",
    "    r=n%10\n",
    "    sum=sum+r\n",
    "    n=n//10\n",
    "print(sum)"
   ]
  },
  {
   "cell_type": "code",
   "execution_count": 28,
   "id": "ff783be6-5e7d-4544-b718-a56efbd59422",
   "metadata": {},
   "outputs": [
    {
     "name": "stdin",
     "output_type": "stream",
     "text": [
      "NO 12\n"
     ]
    },
    {
     "name": "stdout",
     "output_type": "stream",
     "text": [
      "1\n"
     ]
    }
   ],
   "source": [
    "n=int(input(\"NO\"))\n",
    "count=0\n",
    "while(n!=0):\n",
    "    r=n%10\n",
    "    if(r%2==0):\n",
    "        count=count+1\n",
    "    n=n//10\n",
    "print(count)"
   ]
  },
  {
   "cell_type": "code",
   "execution_count": 29,
   "id": "435966c1-ceb6-4d14-8bbc-79aa1244f10b",
   "metadata": {},
   "outputs": [
    {
     "name": "stdin",
     "output_type": "stream",
     "text": [
      "NO 12\n"
     ]
    },
    {
     "name": "stdout",
     "output_type": "stream",
     "text": [
      "1\n"
     ]
    }
   ],
   "source": [
    "n=int(input(\"NO\"))\n",
    "count=0\n",
    "while(n!=0):\n",
    "    r=n%10\n",
    "    if(r%2!=0):\n",
    "        count=count+1\n",
    "    n=n//10\n",
    "print(count)"
   ]
  },
  {
   "cell_type": "code",
   "execution_count": 33,
   "id": "fab0e71f-b3fc-4de3-912a-5f4185a4601c",
   "metadata": {},
   "outputs": [
    {
     "name": "stdin",
     "output_type": "stream",
     "text": [
      "NO 1357\n"
     ]
    },
    {
     "name": "stdout",
     "output_type": "stream",
     "text": [
      "16\n"
     ]
    }
   ],
   "source": [
    "n=int(input(\"NO\"))\n",
    "sum=0\n",
    "while(n!=0):\n",
    "    r=n%10\n",
    "    if(r%2!=0):\n",
    "        sum=sum+r\n",
    "    n=n//10\n",
    "print(sum)"
   ]
  },
  {
   "cell_type": "code",
   "execution_count": 34,
   "id": "3bf5a4cf-f66b-46fb-a2ee-0215fafb6928",
   "metadata": {},
   "outputs": [
    {
     "name": "stdin",
     "output_type": "stream",
     "text": [
      "NO 2468\n"
     ]
    },
    {
     "name": "stdout",
     "output_type": "stream",
     "text": [
      "20\n"
     ]
    }
   ],
   "source": [
    "n=int(input(\"NO\"))\n",
    "sum=0\n",
    "while(n!=0):\n",
    "    r=n%10\n",
    "    if(r%2==0):\n",
    "        sum=sum+r\n",
    "    n=n//10\n",
    "print(sum)"
   ]
  },
  {
   "cell_type": "code",
   "execution_count": 36,
   "id": "1f5d1648-64c0-41f0-802a-c376e2b53828",
   "metadata": {},
   "outputs": [
    {
     "name": "stdin",
     "output_type": "stream",
     "text": [
      "NO 125678\n"
     ]
    },
    {
     "name": "stdout",
     "output_type": "stream",
     "text": [
      "8\n"
     ]
    }
   ],
   "source": [
    "n=int(input(\"NO\"))\n",
    "print(n%10)"
   ]
  },
  {
   "cell_type": "code",
   "execution_count": 1,
   "id": "cfc3d41c-68d2-404b-bbac-13a3c4d00764",
   "metadata": {},
   "outputs": [
    {
     "name": "stdin",
     "output_type": "stream",
     "text": [
      "NO 1234\n"
     ]
    },
    {
     "name": "stdout",
     "output_type": "stream",
     "text": [
      "1\n"
     ]
    }
   ],
   "source": [
    "n=int(input(\"NO\"))\n",
    "while(n>=10):\n",
    "    n=n//10\n",
    "    \n",
    "print(n)\n",
    "   \n"
   ]
  },
  {
   "cell_type": "code",
   "execution_count": 5,
   "id": "45be56e3-7f2e-4325-bfa8-f8bb564e1e73",
   "metadata": {},
   "outputs": [
    {
     "name": "stdin",
     "output_type": "stream",
     "text": [
      "NO 1856\n"
     ]
    },
    {
     "name": "stdout",
     "output_type": "stream",
     "text": [
      "8\n"
     ]
    }
   ],
   "source": [
    "n=int(input(\"NO\"))\n",
    "max=0\n",
    "while(n!=0):\n",
    "    r=n%10\n",
    "    if(max<r):\n",
    "        max=r\n",
    "    n=n//10\n",
    "print(max)\n",
    "    "
   ]
  },
  {
   "cell_type": "code",
   "execution_count": 8,
   "id": "18c1dbb4-0f41-49de-a74a-a8274a0bafed",
   "metadata": {},
   "outputs": [
    {
     "name": "stdin",
     "output_type": "stream",
     "text": [
      "NO 1234\n"
     ]
    },
    {
     "name": "stdout",
     "output_type": "stream",
     "text": [
      "8\n"
     ]
    }
   ],
   "source": [
    "n=int(input(\"NO\"))\n",
    "min=9\n",
    "while(n!=0):\n",
    "    r=n%10\n",
    "    if(min>r):\n",
    "        min=r\n",
    "    n=n//10\n",
    "print()\n",
    "    "
   ]
  },
  {
   "cell_type": "code",
   "execution_count": 22,
   "id": "4863fa91-b87c-4540-9109-7f01e471c575",
   "metadata": {},
   "outputs": [
    {
     "name": "stdout",
     "output_type": "stream",
     "text": [
      "1 \n",
      "2 3 \n",
      "4 5 6 \n",
      "7 8 9 10 \n",
      "11 12 13 14 15 \n"
     ]
    }
   ],
   "source": [
    "row=5\n",
    "n=1\n",
    "for i in range(1,row+1):\n",
    "    for j in range(1,i+1):\n",
    "        print(n,end=\" \")\n",
    "        n=n+1\n",
    "    print()\n"
   ]
  },
  {
   "cell_type": "code",
   "execution_count": 25,
   "id": "b7eb55f3-7c25-44d2-b4fd-705146b31ac1",
   "metadata": {},
   "outputs": [
    {
     "name": "stdin",
     "output_type": "stream",
     "text": [
      "NO 123\n"
     ]
    },
    {
     "name": "stdout",
     "output_type": "stream",
     "text": [
      "6\n"
     ]
    }
   ],
   "source": [
    "n=int(input(\"NO\"))\n",
    "sum=0\n",
    "while(n!=0):\n",
    "    r=n%10\n",
    "    sum=sum+r\n",
    "    n=n//10\n",
    "print(sum)\n"
   ]
  },
  {
   "cell_type": "code",
   "execution_count": 27,
   "id": "716cc18c-0084-4775-9a6d-c75d5232cb77",
   "metadata": {},
   "outputs": [
    {
     "name": "stdout",
     "output_type": "stream",
     "text": [
      "4\n"
     ]
    }
   ],
   "source": [
    "a=\"1234\"\n",
    "print(len(a))"
   ]
  },
  {
   "cell_type": "code",
   "execution_count": 4,
   "id": "7f863cd0-5c0d-4006-97a3-2d30850497f3",
   "metadata": {},
   "outputs": [
    {
     "name": "stdin",
     "output_type": "stream",
     "text": [
      "NO 17890\n"
     ]
    },
    {
     "name": "stdout",
     "output_type": "stream",
     "text": [
      "5\n"
     ]
    }
   ],
   "source": [
    "n=int(input(\"NO\"))\n",
    "count=0\n",
    "\n",
    "while(n!=0):\n",
    "    n=n//10\n",
    "    count=count+1\n",
    "print(count)"
   ]
  },
  {
   "cell_type": "code",
   "execution_count": 5,
   "id": "fe5ecc3f-42ec-4af9-934e-b42198f7730f",
   "metadata": {},
   "outputs": [
    {
     "name": "stdin",
     "output_type": "stream",
     "text": [
      "NO 7\n"
     ]
    },
    {
     "name": "stdout",
     "output_type": "stream",
     "text": [
      "5040\n"
     ]
    }
   ],
   "source": [
    "n=int(input(\"NO\"))\n",
    "fact=1\n",
    "if n<0:\n",
    "    print(\"negative\")\n",
    "elif(n==0):\n",
    "    print(1)\n",
    "else:\n",
    "    for i in range(1,n+1):\n",
    "        fact=fact*i\n",
    "    print(f\"{i}--->fact)"
   ]
  },
  {
   "cell_type": "markdown",
   "id": "0991708d-5a4b-47ac-8f67-910d03ed10b6",
   "metadata": {},
   "source": [
    "##### n=int(input(\"num\"))\n",
    "print(n%10)\n",
    "    "
   ]
  },
  {
   "cell_type": "code",
   "execution_count": 3,
   "id": "02dfe123-799d-4f5e-8fde-645fb90284b0",
   "metadata": {},
   "outputs": [
    {
     "name": "stdin",
     "output_type": "stream",
     "text": [
      "num 2345\n"
     ]
    },
    {
     "name": "stdout",
     "output_type": "stream",
     "text": [
      "2\n"
     ]
    }
   ],
   "source": [
    "n=int(input(\"num\"))\n",
    "while(n>=10):\n",
    "    n=n//10\n",
    "print(n)\n"
   ]
  },
  {
   "cell_type": "code",
   "execution_count": 7,
   "id": "082c96b2-ca82-4bee-868f-c3be8a42ccdb",
   "metadata": {},
   "outputs": [
    {
     "name": "stdin",
     "output_type": "stream",
     "text": [
      "num 8965\n"
     ]
    },
    {
     "name": "stdout",
     "output_type": "stream",
     "text": [
      "9\n"
     ]
    }
   ],
   "source": [
    "n=int(input(\"num\"))\n",
    "max=0\n",
    "while(n!=0):\n",
    "    r=n%10\n",
    "    if(max<r):\n",
    "        max=r\n",
    "    n=n//10\n",
    "print(max)"
   ]
  },
  {
   "cell_type": "code",
   "execution_count": 12,
   "id": "a908cb32-0f08-471a-94b1-5b8449e14c16",
   "metadata": {},
   "outputs": [
    {
     "name": "stdin",
     "output_type": "stream",
     "text": [
      "num 6158\n"
     ]
    },
    {
     "name": "stdout",
     "output_type": "stream",
     "text": [
      "1\n"
     ]
    }
   ],
   "source": [
    "n=int(input(\"num\"))\n",
    "min=9\n",
    "while(n!=0):\n",
    "    r=n%10\n",
    "    if(min>r):\n",
    "        min=r\n",
    "    n=n//10\n",
    "print(min)"
   ]
  },
  {
   "cell_type": "code",
   "execution_count": 5,
   "id": "0ad5a3db-3e24-4a49-92c8-4126219cdead",
   "metadata": {},
   "outputs": [
    {
     "name": "stdin",
     "output_type": "stream",
     "text": [
      "num 2145\n"
     ]
    },
    {
     "name": "stdout",
     "output_type": "stream",
     "text": [
      "1\n",
      "4\n"
     ]
    }
   ],
   "source": [
    "n=int(input(\"num\"))\n",
    "min=9\n",
    "count=0\n",
    "while(n!=0):\n",
    "    r=n%10\n",
    "    if(min>r):\n",
    "        min=r\n",
    "    n=n//10\n",
    "    count=count+1\n",
    "print(min)\n",
    "print(count)"
   ]
  },
  {
   "cell_type": "code",
   "execution_count": 23,
   "id": "28d6ff18-d655-4eff-a0f2-66bd56191148",
   "metadata": {},
   "outputs": [
    {
     "name": "stdin",
     "output_type": "stream",
     "text": [
      "num 1234\n"
     ]
    },
    {
     "name": "stdout",
     "output_type": "stream",
     "text": [
      "4321\n"
     ]
    }
   ],
   "source": [
    "n=int(input(\"num\"))\n",
    "b=str(n)[::-1]\n",
    "\n",
    "print(c)"
   ]
  },
  {
   "cell_type": "code",
   "execution_count": 9,
   "id": "94b67bbb-6425-432f-9558-9719e51c0b3b",
   "metadata": {},
   "outputs": [
    {
     "name": "stdin",
     "output_type": "stream",
     "text": [
      "num 2155\n",
      "num 5\n"
     ]
    },
    {
     "name": "stdout",
     "output_type": "stream",
     "text": [
      "2\n"
     ]
    }
   ],
   "source": [
    "n=int(input(\"num\"))\n",
    "N=int(input(\"num\"))\n",
    "count=0\n",
    "while(n!=0):\n",
    "    r=n%10\n",
    "    if(r%N==0):\n",
    "        count=count+1\n",
    "    n=n//10\n",
    "print(count)"
   ]
  },
  {
   "cell_type": "code",
   "execution_count": 33,
   "id": "ffc93944-68b8-40c9-8f52-9328a49900b3",
   "metadata": {},
   "outputs": [
    {
     "name": "stdin",
     "output_type": "stream",
     "text": [
      "num 1231\n"
     ]
    },
    {
     "name": "stdout",
     "output_type": "stream",
     "text": [
      "not a palindrome\n"
     ]
    }
   ],
   "source": [
    "n=int(input(\"num\"))\n",
    "a=int(str(n)[::-1])\n",
    "if(n==a):\n",
    "    print(\"palindrome\")\n",
    "else:\n",
    "    print(\"not a palindrome\")"
   ]
  },
  {
   "cell_type": "code",
   "execution_count": 38,
   "id": "f69471b0-bc55-44b3-a2d8-80135a5f8c51",
   "metadata": {},
   "outputs": [
    {
     "name": "stdin",
     "output_type": "stream",
     "text": [
      "num 1234\n"
     ]
    },
    {
     "ename": "AttributeError",
     "evalue": "'str' object has no attribute 'sort'",
     "output_type": "error",
     "traceback": [
      "\u001b[1;31m---------------------------------------------------------------------------\u001b[0m",
      "\u001b[1;31mAttributeError\u001b[0m                            Traceback (most recent call last)",
      "Cell \u001b[1;32mIn[38], line 4\u001b[0m\n\u001b[0;32m      2\u001b[0m n\u001b[38;5;241m=\u001b[39m\u001b[38;5;28mint\u001b[39m(\u001b[38;5;28minput\u001b[39m(\u001b[38;5;124m\"\u001b[39m\u001b[38;5;124mnum\u001b[39m\u001b[38;5;124m\"\u001b[39m))\n\u001b[0;32m      3\u001b[0m a\u001b[38;5;241m=\u001b[39m(\u001b[38;5;28mstr\u001b[39m(\u001b[38;5;28mabs\u001b[39m(n)))\n\u001b[1;32m----> 4\u001b[0m b\u001b[38;5;241m=\u001b[39ma\u001b[38;5;241m.\u001b[39msort()\n\u001b[0;32m      5\u001b[0m \u001b[38;5;28mprint\u001b[39m(b)\n",
      "\u001b[1;31mAttributeError\u001b[0m: 'str' object has no attribute 'sort'"
     ]
    }
   ],
   "source": [
    "\n",
    "n=int(input(\"num\"))\n",
    "a=(str(abs(n)))\n",
    "b=a.sort()\n",
    "print(b)\n"
   ]
  },
  {
   "cell_type": "code",
   "execution_count": null,
   "id": "b9c513ee-4f95-4637-886a-ea19c40f012f",
   "metadata": {},
   "outputs": [],
   "source": [
    "n=int(input(\"num\"))\n",
    "max=0\n",
    "while(n!=0):\n",
    "    \n"
   ]
  },
  {
   "cell_type": "code",
   "execution_count": 18,
   "id": "82098776-93d8-47ea-8299-77d4d05e5534",
   "metadata": {},
   "outputs": [
    {
     "name": "stdout",
     "output_type": "stream",
     "text": [
      "1\n",
      "3\n",
      "5\n",
      "7\n",
      "9\n"
     ]
    }
   ],
   "source": [
    "def onetoten():\n",
    "    for i in range(1,11):\n",
    "        if(iseven(i)!=True):\n",
    "            print(i)\n",
    "onetoten()"
   ]
  },
  {
   "cell_type": "code",
   "execution_count": 16,
   "id": "88d53b50-9a0f-41f5-a24f-51817f98d1c5",
   "metadata": {},
   "outputs": [
    {
     "name": "stdout",
     "output_type": "stream",
     "text": [
      "even\n",
      "odd\n"
     ]
    }
   ],
   "source": [
    "def oddoreven(a):\n",
    "    if(iseven(a)):\n",
    "        return \"even\"\n",
    "    else:\n",
    "        return \"odd\"\n",
    "   \n",
    "print(oddoreven(10))\n",
    "print(oddoreven(15))"
   ]
  },
  {
   "cell_type": "code",
   "execution_count": 14,
   "id": "021c4045-252c-422d-9127-d82431436449",
   "metadata": {},
   "outputs": [],
   "source": [
    "def iseven(n):\n",
    "    if(n%2==0):\n",
    "        return True\n",
    "    else:\n",
    "        return False"
   ]
  },
  {
   "cell_type": "code",
   "execution_count": 15,
   "id": "54b305cc-f00d-4c40-bd99-d666a5710303",
   "metadata": {},
   "outputs": [],
   "source": [
    "def iseven(n):\n",
    "    return n%2==0"
   ]
  },
  {
   "cell_type": "code",
   "execution_count": 5,
   "id": "24f94dc3-5779-46ac-8cf9-45d244bf9517",
   "metadata": {},
   "outputs": [
    {
     "data": {
      "text/plain": [
       "'even'"
      ]
     },
     "execution_count": 5,
     "metadata": {},
     "output_type": "execute_result"
    }
   ],
   "source": [
    "oddoreven(12)"
   ]
  },
  {
   "cell_type": "code",
   "execution_count": 10,
   "id": "56413f36-8a34-4f27-af2f-7154d3cc7c67",
   "metadata": {},
   "outputs": [
    {
     "name": "stdout",
     "output_type": "stream",
     "text": [
      "('a', 'b', 'c', 1, 2, 3)\n"
     ]
    }
   ],
   "source": [
    "def all(*args):\n",
    "    print(args)\n",
    "all(\"a\",\"b\",\"c\",1,2,3)"
   ]
  },
  {
   "cell_type": "code",
   "execution_count": 12,
   "id": "938b51ad-d314-4af4-824d-e54a117bdad2",
   "metadata": {},
   "outputs": [
    {
     "name": "stdout",
     "output_type": "stream",
     "text": [
      "3--->fizz\n",
      "5--->buzz\n",
      "6--->fizz\n",
      "9--->fizz\n",
      "10--->buzz\n",
      "12--->fizz\n",
      "15--->fizzbuzz\n"
     ]
    }
   ],
   "source": [
    "def fizzbuzz(n):\n",
    "    for i in range(1,n+1):\n",
    "        if(i%3==0 and i%5==0):\n",
    "            print(f\"{i}--->fizzbuzz\")\n",
    "        elif(i%3==0):\n",
    "              print(f\"{i}--->fizz\")\n",
    "        elif(i%5==0):\n",
    "              print(f\"{i}--->buzz\")\n",
    "fizzbuzz(15)\n",
    "            \n",
    "            "
   ]
  },
  {
   "cell_type": "code",
   "execution_count": 1,
   "id": "5b02a821-c715-4cad-ab01-41ad93ceb727",
   "metadata": {},
   "outputs": [
    {
     "data": {
      "text/plain": [
       "4"
      ]
     },
     "execution_count": 1,
     "metadata": {},
     "output_type": "execute_result"
    }
   ],
   "source": [
    "def count(n):\n",
    "    count=0\n",
    "    while(n!=0):\n",
    "        n=n//10\n",
    "        count=count+1\n",
    "    return count\n",
    "count(1234)"
   ]
  },
  {
   "cell_type": "code",
   "execution_count": 2,
   "id": "13d9ca2f-2b57-42eb-aa2d-a69a28d0893a",
   "metadata": {},
   "outputs": [
    {
     "data": {
      "text/plain": [
       "6"
      ]
     },
     "execution_count": 2,
     "metadata": {},
     "output_type": "execute_result"
    }
   ],
   "source": [
    "count(567812)\n"
   ]
  },
  {
   "cell_type": "code",
   "execution_count": 28,
   "id": "9ae15b14-5b55-4bde-abd7-2e1e2aa23cf8",
   "metadata": {},
   "outputs": [
    {
     "name": "stdout",
     "output_type": "stream",
     "text": [
      "odd\n"
     ]
    }
   ],
   "source": [
    "if(iseven(count(5678126))):\n",
    "    print(\"even\")\n",
    "else:\n",
    "    print(\"odd\")\n",
    "       "
   ]
  },
  {
   "cell_type": "code",
   "execution_count": 29,
   "id": "d86cd778-db89-4ba1-b5fb-61e2cd353b06",
   "metadata": {},
   "outputs": [
    {
     "name": "stdout",
     "output_type": "stream",
     "text": [
      "6\n"
     ]
    }
   ],
   "source": [
    "def sum(n):\n",
    "    sum=0\n",
    "    while(n!=0):\n",
    "        r=n%10\n",
    "        sum=sum+r\n",
    "        n=n//10\n",
    "    print(sum)\n",
    "sum(123)"
   ]
  },
  {
   "cell_type": "code",
   "execution_count": 30,
   "id": "53922c46-8389-49ae-b83a-7be7859485bf",
   "metadata": {},
   "outputs": [
    {
     "name": "stdout",
     "output_type": "stream",
     "text": [
      "26\n"
     ]
    }
   ],
   "source": [
    "sum(7856)\n"
   ]
  },
  {
   "cell_type": "code",
   "execution_count": 2,
   "id": "c314a957-dfaa-4ffe-83d1-3eef7f9600c0",
   "metadata": {},
   "outputs": [
    {
     "data": {
      "text/plain": [
       "6"
      ]
     },
     "execution_count": 2,
     "metadata": {},
     "output_type": "execute_result"
    }
   ],
   "source": [
    "def countodd(n):\n",
    "    sum=0\n",
    "    while(n!=0):\n",
    "        r=n%10\n",
    "        if(r%2==0):\n",
    "            sum=sum+r\n",
    "        n=n//10\n",
    "        \n",
    "    return sum\n",
    "countodd(1234)"
   ]
  },
  {
   "cell_type": "code",
   "execution_count": 3,
   "id": "6e6e3384-0603-43a2-a90d-ae98b6a417a6",
   "metadata": {},
   "outputs": [
    {
     "data": {
      "text/plain": [
       "12"
      ]
     },
     "execution_count": 3,
     "metadata": {},
     "output_type": "execute_result"
    }
   ],
   "source": [
    "countodd(123456)"
   ]
  },
  {
   "cell_type": "code",
   "execution_count": 2,
   "id": "c212e3cd-1744-4389-8ed9-21219b05fc7c",
   "metadata": {},
   "outputs": [
    {
     "data": {
      "text/plain": [
       "4321"
      ]
     },
     "execution_count": 2,
     "metadata": {},
     "output_type": "execute_result"
    }
   ],
   "source": [
    "def reverse(n):\n",
    "    a=str(n)[::-1]\n",
    "    b=int(a)\n",
    "    return b\n",
    "reverse(1234)"
   ]
  },
  {
   "cell_type": "code",
   "execution_count": 11,
   "id": "cca86a26-c27f-4a37-a1c9-236f23e74a49",
   "metadata": {},
   "outputs": [
    {
     "name": "stdin",
     "output_type": "stream",
     "text": [
      "n 1456\n"
     ]
    },
    {
     "name": "stdout",
     "output_type": "stream",
     "text": [
      "not a palindrome\n"
     ]
    }
   ],
   "source": [
    "n=int(input(\"n\"))\n",
    "if (reverse(n)== n):\n",
    "    print(\"palindrome\")\n",
    "else:\n",
    "    print(\"not a palindrome\")\n",
    "    \n"
   ]
  },
  {
   "cell_type": "code",
   "execution_count": 4,
   "id": "6cb1a0b5-4baa-45d8-9bbb-568dc3536efd",
   "metadata": {},
   "outputs": [
    {
     "data": {
      "text/plain": [
       "'b'"
      ]
     },
     "execution_count": 4,
     "metadata": {},
     "output_type": "execute_result"
    }
   ],
   "source": [
    "name=\"balaji shanmugam\"\n",
    "name[0]"
   ]
  },
  {
   "cell_type": "code",
   "execution_count": 2,
   "id": "ff1d438a-b3c6-45cc-93f8-556c9fb0d7c7",
   "metadata": {},
   "outputs": [
    {
     "data": {
      "text/plain": [
       "'i'"
      ]
     },
     "execution_count": 2,
     "metadata": {},
     "output_type": "execute_result"
    }
   ],
   "source": [
    "name[-1]\n"
   ]
  },
  {
   "cell_type": "code",
   "execution_count": 5,
   "id": "f2d1ff29-a3a9-45cc-99cd-db0a13e596ef",
   "metadata": {},
   "outputs": [
    {
     "data": {
      "text/plain": [
       "' '"
      ]
     },
     "execution_count": 5,
     "metadata": {},
     "output_type": "execute_result"
    }
   ],
   "source": [
    "name[6]"
   ]
  },
  {
   "cell_type": "code",
   "execution_count": 6,
   "id": "5c70c4e8-441f-4f96-a12e-13dcccbf34df",
   "metadata": {},
   "outputs": [
    {
     "data": {
      "text/plain": [
       "'magumnahs ijalab'"
      ]
     },
     "execution_count": 6,
     "metadata": {},
     "output_type": "execute_result"
    }
   ],
   "source": [
    "name[::-1]"
   ]
  },
  {
   "cell_type": "code",
   "execution_count": 7,
   "id": "a4340f88-0512-458b-90e1-13a5342e59df",
   "metadata": {},
   "outputs": [
    {
     "data": {
      "text/plain": [
       "2491502538352"
      ]
     },
     "execution_count": 7,
     "metadata": {},
     "output_type": "execute_result"
    }
   ],
   "source": [
    "id(name)"
   ]
  },
  {
   "cell_type": "code",
   "execution_count": 9,
   "id": "f9280d47-5c63-44b3-bfd7-85514fb5c4ff",
   "metadata": {},
   "outputs": [
    {
     "data": {
      "text/plain": [
       "'ba au'"
      ]
     },
     "execution_count": 9,
     "metadata": {},
     "output_type": "execute_result"
    }
   ],
   "source": [
    "name[0:13:3]"
   ]
  },
  {
   "cell_type": "code",
   "execution_count": 10,
   "id": "ef7de22e-23ac-45e8-be0b-c7ce71b66047",
   "metadata": {},
   "outputs": [
    {
     "data": {
      "text/plain": [
       "'balaji shanmugam'"
      ]
     },
     "execution_count": 10,
     "metadata": {},
     "output_type": "execute_result"
    }
   ],
   "source": [
    "name[:]"
   ]
  },
  {
   "cell_type": "code",
   "execution_count": 11,
   "id": "138c7dba-3094-4733-b365-9bdc473b8094",
   "metadata": {},
   "outputs": [
    {
     "data": {
      "text/plain": [
       "'blj hnua'"
      ]
     },
     "execution_count": 11,
     "metadata": {},
     "output_type": "execute_result"
    }
   ],
   "source": [
    "name[::2]"
   ]
  },
  {
   "cell_type": "code",
   "execution_count": 18,
   "id": "307efeb3-97af-4620-8275-b08328005401",
   "metadata": {},
   "outputs": [
    {
     "name": "stdout",
     "output_type": "stream",
     "text": [
      "balajishanmugam\n"
     ]
    }
   ],
   "source": [
    "name1=\"balaji\"\n",
    "name2=\"shanmugam\"\n",
    "print(name1+name2)"
   ]
  },
  {
   "cell_type": "code",
   "execution_count": 20,
   "id": "244048d5-67af-41fc-9b11-49d02f980e6c",
   "metadata": {},
   "outputs": [
    {
     "data": {
      "text/plain": [
       "'balajibalajibalaji'"
      ]
     },
     "execution_count": 20,
     "metadata": {},
     "output_type": "execute_result"
    }
   ],
   "source": [
    "name1*3"
   ]
  },
  {
   "cell_type": "code",
   "execution_count": 27,
   "id": "6fdd97af-9a22-4bb1-83ab-34e73ff430b3",
   "metadata": {},
   "outputs": [
    {
     "data": {
      "text/plain": [
       "'balajibalajibalaji'"
      ]
     },
     "execution_count": 27,
     "metadata": {},
     "output_type": "execute_result"
    }
   ],
   "source": [
    "\"balaji\"* 3"
   ]
  },
  {
   "cell_type": "code",
   "execution_count": 35,
   "id": "ebd07048-6946-49cf-80fb-c334aba56add",
   "metadata": {},
   "outputs": [
    {
     "name": "stdout",
     "output_type": "stream",
     "text": [
      "hello\n",
      "world\n"
     ]
    }
   ],
   "source": [
    "print(\"hello\\nworld\")"
   ]
  },
  {
   "cell_type": "code",
   "execution_count": 31,
   "id": "8536b511-b379-4185-b3cb-d1bb6282cd11",
   "metadata": {},
   "outputs": [
    {
     "name": "stdout",
     "output_type": "stream",
     "text": [
      "hello\tworld\n"
     ]
    }
   ],
   "source": [
    "print(\"hello\\tworld\")"
   ]
  },
  {
   "cell_type": "code",
   "execution_count": 4,
   "id": "949d7cbb-a9f0-4cdd-93da-dc0a86133af1",
   "metadata": {},
   "outputs": [
    {
     "name": "stdout",
     "output_type": "stream",
     "text": [
      "BALAJI\n",
      "balaji\n"
     ]
    }
   ],
   "source": [
    "a=\"balaji\"\n",
    "b=a.upper()\n",
    "print(b)\n",
    "c=b.lower()\n",
    "print(c)"
   ]
  },
  {
   "cell_type": "code",
   "execution_count": 6,
   "id": "3a70d83e-aed5-4704-9581-0b76cbabd145",
   "metadata": {},
   "outputs": [
    {
     "name": "stdout",
     "output_type": "stream",
     "text": [
      "balaji chennai\n"
     ]
    }
   ],
   "source": [
    "a=\"balaji trichy\"\n",
    "b=a.replace(\"trichy\",\"chennai\")\n",
    "print(b)"
   ]
  },
  {
   "cell_type": "code",
   "execution_count": 8,
   "id": "a30529ee-1630-48f9-bc67-dcbb14778626",
   "metadata": {},
   "outputs": [
    {
     "name": "stdout",
     "output_type": "stream",
     "text": [
      "7\n"
     ]
    }
   ],
   "source": [
    "a=\"balaji trichy\"\n",
    "b=a.find(\"tri\")\n",
    "print(b)"
   ]
  },
  {
   "cell_type": "code",
   "execution_count": 14,
   "id": "57f69172-8a43-4ca4-9391-7d63ff4c1d19",
   "metadata": {},
   "outputs": [
    {
     "name": "stdout",
     "output_type": "stream",
     "text": [
      "['balaji', ':trichy:ram:', 'tom:', 'ravi:man:', 'tin']\n"
     ]
    }
   ],
   "source": [
    "a=\"balaji :trichy:ram: tom: ravi:man: tin\"\n",
    "b=a.split()\n",
    "print(b)"
   ]
  },
  {
   "cell_type": "code",
   "execution_count": 17,
   "id": "aba91878-ae8a-40fc-8033-60ff137b9661",
   "metadata": {},
   "outputs": [
    {
     "name": "stdout",
     "output_type": "stream",
     "text": [
      "<re.Match object; span=(6, 11), match='world'>\n",
      "found\n",
      "world\n"
     ]
    }
   ],
   "source": [
    "import re\n",
    "s1=\"hello world\"\n",
    "pattern= r\"world\"\n",
    "res=re.search(pattern,s1)\n",
    "print(res)\n",
    "if res:\n",
    "    print(\"found\")\n",
    "    print(res.group())\n",
    "else:\n",
    "    print(\"not found\")"
   ]
  },
  {
   "cell_type": "code",
   "execution_count": 18,
   "id": "80ecc64a-8d31-4c87-8dee-1cc5691e3379",
   "metadata": {},
   "outputs": [
    {
     "name": "stdout",
     "output_type": "stream",
     "text": [
      "<re.Match object; span=(13, 23), match='8072722795'>\n",
      "8072722795\n"
     ]
    }
   ],
   "source": [
    "pattern=r\"\\d\\d\\d\\d\\d\\d\\d\\d\\d\\d\"\n",
    "s1=\"my number is 8072722795\"\n",
    "res=re.search(pattern,s1)\n",
    "print(res)\n",
    "if res:\n",
    "    print(res.group())\n",
    "else:\n",
    "    print(\"not found\")\n",
    "    "
   ]
  },
  {
   "cell_type": "code",
   "execution_count": 28,
   "id": "d6675f3e-21ef-4cd8-9fb0-16688b4e7bf6",
   "metadata": {},
   "outputs": [
    {
     "name": "stdout",
     "output_type": "stream",
     "text": [
      "['H', 'e', 'l', 'l', 'o', 'w', 'o', 'r', 'l', 'd']\n"
     ]
    }
   ],
   "source": [
    "pattern=r\"\\w\"\n",
    "s1=\"Hello world!\"\n",
    "res=re.findall(pattern,s1)\n",
    "print(res)\n"
   ]
  },
  {
   "cell_type": "code",
   "execution_count": 29,
   "id": "57af090e-2eff-4c61-bc71-1c13cf9222f4",
   "metadata": {},
   "outputs": [
    {
     "name": "stdout",
     "output_type": "stream",
     "text": [
      "['of', 'of', 'of', 'of']\n"
     ]
    }
   ],
   "source": [
    "s1=\"the king of tiger of lion of eagel of monkey\"\n",
    "s2=re.findall(\"of\",s1)\n",
    "print(s2)"
   ]
  },
  {
   "cell_type": "code",
   "execution_count": 30,
   "id": "c6920f5f-0cf7-4493-a232-62568c69c740",
   "metadata": {},
   "outputs": [
    {
     "name": "stdout",
     "output_type": "stream",
     "text": [
      "['the king ', ' tiger ', ' lion ', ' eagel ', ' monkey']\n"
     ]
    }
   ],
   "source": [
    "s1=\"the king of tiger of lion of eagel of monkey\"\n",
    "s2=re.split(\"of\",s1)\n",
    "print(s2)"
   ]
  },
  {
   "cell_type": "code",
   "execution_count": 33,
   "id": "aa797ab8-f3d3-41e5-878d-229e62543e8e",
   "metadata": {},
   "outputs": [
    {
     "name": "stdout",
     "output_type": "stream",
     "text": [
      "the king is tiger is lion is eagel is monkey\n"
     ]
    }
   ],
   "source": [
    "s1=\"the king of tiger of lion of eagel of monkey\"\n",
    "s2=s1.replace(\"of\",\"is\")\n",
    "print(s2)"
   ]
  },
  {
   "cell_type": "code",
   "execution_count": 10,
   "id": "140c5350-429e-4109-ad8e-9e9673169dcf",
   "metadata": {},
   "outputs": [
    {
     "data": {
      "text/plain": [
       "'hello'"
      ]
     },
     "execution_count": 10,
     "metadata": {},
     "output_type": "execute_result"
    }
   ],
   "source": [
    "a=[1,\"hello\",[1,2,3],\"True\"]\n",
    "a[1]"
   ]
  },
  {
   "cell_type": "code",
   "execution_count": 12,
   "id": "ae2e4395-dcff-420f-afb8-4c315837f96d",
   "metadata": {},
   "outputs": [
    {
     "data": {
      "text/plain": [
       "['hello', [1, 2, 3], 'True']"
      ]
     },
     "execution_count": 12,
     "metadata": {},
     "output_type": "execute_result"
    }
   ],
   "source": [
    "a[1:4]"
   ]
  },
  {
   "cell_type": "code",
   "execution_count": 14,
   "id": "aaba94e1-87fe-4a78-be72-a075ec3a8dbc",
   "metadata": {},
   "outputs": [
    {
     "name": "stdout",
     "output_type": "stream",
     "text": [
      "[1, 'a', 2, 1, 'd']\n"
     ]
    }
   ],
   "source": [
    "A=[1,'a']\n",
    "B=[2,1,'d']\n",
    "A.extend(B)\n",
    "print(A)"
   ]
  },
  {
   "cell_type": "code",
   "execution_count": 39,
   "id": "b01f46c8-e5b4-4abc-a0ca-f2df686e2f51",
   "metadata": {},
   "outputs": [
    {
     "name": "stdout",
     "output_type": "stream",
     "text": [
      "['Watch', 'Laptop', 'Shoes', 'Pen', 'Clothes', 'Football']\n"
     ]
    }
   ],
   "source": [
    "shopping_list=[]\n",
    "shopping_list=[\"Watch\",\"Laptop\",\"Shoes\",\"Pen\",\"Clothes\"]\n",
    "shopping_list.append(\"Football\")\n",
    "print(shopping_list)"
   ]
  },
  {
   "cell_type": "code",
   "execution_count": 30,
   "id": "8df924d0-1ed2-456b-bdb1-339a3dd095dc",
   "metadata": {},
   "outputs": [
    {
     "data": {
      "text/plain": [
       "'Watch'"
      ]
     },
     "execution_count": 30,
     "metadata": {},
     "output_type": "execute_result"
    }
   ],
   "source": [
    "shopping_list[0]"
   ]
  },
  {
   "cell_type": "code",
   "execution_count": 40,
   "id": "f179cd14-ce30-466e-9405-43336c457ae3",
   "metadata": {},
   "outputs": [
    {
     "name": "stdout",
     "output_type": "stream",
     "text": [
      "['Watch', 'Laptop', 'Shoes', 'Pen', 'Clothes', 'Football']\n"
     ]
    }
   ],
   "source": [
    "\n",
    "print(shopping_list)"
   ]
  },
  {
   "cell_type": "code",
   "execution_count": 41,
   "id": "4ead865c-2f9a-4640-872a-66574fc1bf2b",
   "metadata": {},
   "outputs": [
    {
     "name": "stdout",
     "output_type": "stream",
     "text": [
      "['Watch', 'Laptop', 'Shoes', 'Pen', 'Clothes', 'Football']\n"
     ]
    }
   ],
   "source": [
    "print(shopping_list)"
   ]
  },
  {
   "cell_type": "code",
   "execution_count": 42,
   "id": "5f8dcd2e-f234-4c16-9482-8c9cc6499076",
   "metadata": {},
   "outputs": [
    {
     "data": {
      "text/plain": [
       "['Laptop', 'Shoes']"
      ]
     },
     "execution_count": 42,
     "metadata": {},
     "output_type": "execute_result"
    }
   ],
   "source": [
    "shopping_list[1:3]"
   ]
  },
  {
   "cell_type": "code",
   "execution_count": 43,
   "id": "16a555d0-1aff-450e-9337-063475d4ef2b",
   "metadata": {},
   "outputs": [],
   "source": [
    "shopping_list[3]=\"NoteBook\""
   ]
  },
  {
   "cell_type": "code",
   "execution_count": 44,
   "id": "b99116fb-ca62-4206-93d4-3a38a08abb23",
   "metadata": {},
   "outputs": [
    {
     "name": "stdout",
     "output_type": "stream",
     "text": [
      "['Watch', 'Laptop', 'Shoes', 'NoteBook', 'Football']\n"
     ]
    }
   ],
   "source": [
    "shopping_list.pop(4)\n",
    "print(shopping_list)"
   ]
  },
  {
   "cell_type": "code",
   "execution_count": 45,
   "id": "7a546b06-f88b-450c-a5d9-adaba98707aa",
   "metadata": {},
   "outputs": [
    {
     "name": "stdout",
     "output_type": "stream",
     "text": [
      "Watch\n",
      "Laptop\n",
      "Shoes\n",
      "NoteBook\n",
      "Football\n"
     ]
    }
   ],
   "source": [
    "for i in (shopping_list):\n",
    "    print(i)"
   ]
  },
  {
   "cell_type": "code",
   "execution_count": 4,
   "id": "795d078b-d18d-4325-ba80-743246bf70a1",
   "metadata": {},
   "outputs": [
    {
     "name": "stdin",
     "output_type": "stream",
     "text": [
      "no 10\n"
     ]
    },
    {
     "name": "stdout",
     "output_type": "stream",
     "text": [
      "0 1 1 2 3 5 8 13 21 34 "
     ]
    }
   ],
   "source": [
    "n=int(input(\"no\"))\n",
    "a=0\n",
    "b=1\n",
    "for i in range(n):\n",
    "    print(a,end=\" \")\n",
    "    a,b=b,a+b\n",
    "        \n",
    "        "
   ]
  },
  {
   "cell_type": "code",
   "execution_count": 6,
   "id": "f5aaff93-a02a-420b-bcc0-aafcc73054e4",
   "metadata": {},
   "outputs": [
    {
     "name": "stdout",
     "output_type": "stream",
     "text": [
      "0 1 1 2 3 5 8 13 21 34 "
     ]
    }
   ],
   "source": [
    "def fib(n):\n",
    "    a=0\n",
    "    b=1\n",
    "    for i in range(n):\n",
    "        print(a, end=\" \")\n",
    "        a,b=b,a+b\n",
    "fib(10)"
   ]
  },
  {
   "cell_type": "code",
   "execution_count": 9,
   "id": "beb76f2d-b331-41f9-bd93-eb053c92e7cf",
   "metadata": {},
   "outputs": [
    {
     "name": "stdout",
     "output_type": "stream",
     "text": [
      "6\n"
     ]
    }
   ],
   "source": [
    "def getLastDigit(a, b):\n",
    "        n=a**b\n",
    "        print(n%10)\n",
    "getLastDigit(2,4)"
   ]
  },
  {
   "cell_type": "code",
   "execution_count": 10,
   "id": "90b7d021-1b8f-4309-8373-979a328a004e",
   "metadata": {},
   "outputs": [
    {
     "name": "stdout",
     "output_type": "stream",
     "text": [
      "4\n"
     ]
    }
   ],
   "source": [
    "getLastDigit(8,6)"
   ]
  },
  {
   "cell_type": "code",
   "execution_count": 11,
   "id": "8baaca58-8fb2-421c-b5bb-b21585898dc6",
   "metadata": {},
   "outputs": [
    {
     "name": "stdout",
     "output_type": "stream",
     "text": [
      "\n",
      "*\n",
      "**\n",
      "***\n",
      "****\n"
     ]
    }
   ],
   "source": [
    "def star(n):\n",
    "    for i in range(n):\n",
    "        print(i*\"*\")\n",
    "star(5)"
   ]
  },
  {
   "cell_type": "code",
   "execution_count": 12,
   "id": "f572363c-1336-4cb5-9e2d-a5c872a48900",
   "metadata": {},
   "outputs": [
    {
     "name": "stdout",
     "output_type": "stream",
     "text": [
      "\n",
      "*\n",
      "**\n",
      "***\n",
      "****\n",
      "*****\n"
     ]
    }
   ],
   "source": [
    "star(6)"
   ]
  },
  {
   "cell_type": "code",
   "execution_count": 20,
   "id": "b7681d7f-46c6-47b4-97bf-aa4cb7746822",
   "metadata": {},
   "outputs": [
    {
     "name": "stdout",
     "output_type": "stream",
     "text": [
      "*****\n",
      "****\n",
      "***\n",
      "**\n",
      "*\n"
     ]
    }
   ],
   "source": [
    "def star(n):\n",
    "    for i in range(n,0,-1):\n",
    "        print(\"*\"*i)\n",
    "star(5)"
   ]
  },
  {
   "cell_type": "code",
   "execution_count": 6,
   "id": "446ef7e0-e00d-4414-82fa-0b1822cf8904",
   "metadata": {},
   "outputs": [
    {
     "name": "stdout",
     "output_type": "stream",
     "text": [
      "a\n",
      "`\n",
      "_\n",
      "^\n",
      "]\n",
      "\\\n",
      "[\n",
      "Z\n",
      "Y\n",
      "X\n",
      "W\n",
      "V\n",
      "U\n",
      "T\n",
      "S\n",
      "R\n",
      "Q\n",
      "P\n",
      "O\n",
      "N\n",
      "M\n",
      "L\n",
      "K\n",
      "J\n",
      "I\n",
      "H\n",
      "G\n"
     ]
    }
   ],
   "source": [
    "for i in range(97,70,-1):\n",
    "    print(chr(i))"
   ]
  },
  {
   "cell_type": "code",
   "execution_count": 4,
   "id": "bc602139-47b0-4f45-9ce3-48ee294ef14e",
   "metadata": {},
   "outputs": [
    {
     "name": "stdin",
     "output_type": "stream",
     "text": [
      "table 9\n"
     ]
    },
    {
     "name": "stdout",
     "output_type": "stream",
     "text": [
      "1 x 9 = 9\n",
      "2 x 9 = 18\n",
      "3 x 9 = 27\n",
      "4 x 9 = 36\n",
      "5 x 9 = 45\n",
      "6 x 9 = 54\n",
      "7 x 9 = 63\n",
      "8 x 9 = 72\n",
      "9 x 9 = 81\n",
      "10 x 9 = 90\n"
     ]
    }
   ],
   "source": [
    "n= int(input(\"table\"))\n",
    "for i in range(1,11):\n",
    "    print(i,\"x\",n,\"=\",i*n)"
   ]
  },
  {
   "cell_type": "code",
   "execution_count": null,
   "id": "969da5e5-888b-4280-b2a0-7746c773cbba",
   "metadata": {},
   "outputs": [],
   "source": []
  }
 ],
 "metadata": {
  "kernelspec": {
   "display_name": "Python 3 (ipykernel)",
   "language": "python",
   "name": "python3"
  },
  "language_info": {
   "codemirror_mode": {
    "name": "ipython",
    "version": 3
   },
   "file_extension": ".py",
   "mimetype": "text/x-python",
   "name": "python",
   "nbconvert_exporter": "python",
   "pygments_lexer": "ipython3",
   "version": "3.13.5"
  }
 },
 "nbformat": 4,
 "nbformat_minor": 5
}
